{
 "cells": [
  {
   "cell_type": "code",
   "execution_count": 20,
   "metadata": {},
   "outputs": [],
   "source": [
    "import numpy as np\n",
    "import torch, queue\n",
    "from torch_geometric.data import Data\n",
    "from torch_geometric.loader import DataLoader\n",
    "from torch.utils.data import Dataset\n",
    "from src.transforms import *\n",
    "from torch_geometric.data import Data, HeteroData"
   ]
  },
  {
   "cell_type": "code",
   "execution_count": 43,
   "metadata": {},
   "outputs": [],
   "source": [
    "class TerrainHeteroData(HeteroData):\n",
    "    def __inc__(self, key, value, *args, **kwargs):\n",
    "        if key == 'src':\n",
    "            return self['real'].x.size(0)\n",
    "        if key == 'tar':\n",
    "            return self['real'].x.size(0)\n",
    "        return super().__inc__(key, value, *args, **kwargs)\n",
    "\n",
    "class TerrainPatchesData(Data):\n",
    "    def __inc__(self, key, value, *args, **kwargs):\n",
    "        if key == 'src':\n",
    "            return self.x.size(0)\n",
    "        if key == 'tar':\n",
    "            return self.x.size(0)\n",
    "        return super().__inc__(key, value, *args, **kwargs)\n",
    "    "
   ]
  },
  {
   "cell_type": "code",
   "execution_count": 44,
   "metadata": {},
   "outputs": [],
   "source": [
    "def add_virtual_node(data):\n",
    "    hetero_data = TerrainHeteroData()\n",
    "    sz_features = data.x.size()[1]\n",
    "    hetero_data.src = data.src\n",
    "    hetero_data.tar = data.tar\n",
    "    hetero_data['real'].x = data.x.double()\n",
    "    hetero_data['real', 'e1', 'real'].edge_index = data.edge_index\n",
    "\n",
    "    vn = torch.zeros(size = (1, sz_features), dtype=torch.double )\n",
    "    hetero_data['vn'].x = vn\n",
    "    vn_edge_index = [[], []]\n",
    "    for i in range(data.x.size()[0]):\n",
    "        vn_edge_index[0].append(0)\n",
    "        vn_edge_index[1].append(i)\n",
    "    hetero_data['vn', 'e2', 'real'].edge_index = torch.tensor(vn_edge_index, dtype=torch.long)\n",
    "\n",
    "    return hetero_data"
   ]
  },
  {
   "cell_type": "code",
   "execution_count": 45,
   "metadata": {},
   "outputs": [],
   "source": [
    "x1 = torch.randn(3, 16)  \n",
    "ei_1 = torch.tensor([\n",
    "    [0, 1, 0, 2],\n",
    "    [1, 0, 2, 0],\n",
    "])\n",
    "\n",
    "x2 = torch.randn(3, 16)  \n",
    "ei_2 = torch.tensor([\n",
    "    [0, 1, 0, 2],\n",
    "    [1, 0, 2, 0],\n",
    "])"
   ]
  },
  {
   "cell_type": "code",
   "execution_count": 46,
   "metadata": {},
   "outputs": [
    {
     "name": "stdout",
     "output_type": "stream",
     "text": [
      "TerrainHeteroData(\n",
      "  src=1,\n",
      "  \u001b[1mreal\u001b[0m={ x=[3, 16] },\n",
      "  \u001b[1mvn\u001b[0m={ x=[1, 16] },\n",
      "  \u001b[1m(real, e1, real)\u001b[0m={ edge_index=[2, 4] },\n",
      "  \u001b[1m(vn, e2, real)\u001b[0m={ edge_index=[2, 3] }\n",
      ")\n"
     ]
    }
   ],
   "source": [
    "data0 = TerrainPatchesData(x=x1, edge_index = ei_1, src =1, tar=2)\n",
    "data1 = TerrainPatchesData(x=x2, edge_index = ei_2, src = 0, tar=1)\n",
    "vn1 = add_virtual_node(data0)\n",
    "vn2 = add_virtual_node(data1)\n",
    "lst = [data0, data1]\n",
    "lst_vn = [vn1, vn2]\n",
    "print(vn1)"
   ]
  },
  {
   "cell_type": "code",
   "execution_count": 47,
   "metadata": {},
   "outputs": [
    {
     "name": "stdout",
     "output_type": "stream",
     "text": [
      "{'edge_index': tensor([[0, 0, 0, 1, 1, 1],\n",
      "        [0, 1, 2, 3, 4, 5]])}\n",
      "tensor([1, 3])\n"
     ]
    }
   ],
   "source": [
    "loader = DataLoader(lst_vn, batch_size=2, follow_batch = ['src'])\n",
    "batch = next(iter(loader))\n",
    "print(batch['vn', 'e2', 'real'])\n",
    "print(batch['src'])"
   ]
  },
  {
   "cell_type": "code",
   "execution_count": 29,
   "metadata": {},
   "outputs": [],
   "source": [
    "data0 = TerrainPatchesData(x = data[0].x, edge_index = data[0].edge_index, src=np.int64(1), tar=np.int64(2))\n",
    "data1 = TerrainPatchesData(x = data[1].x, edge_index = data[1].edge_index, src=np.int64(0), tar=np.int64(0))\n",
    "lst = [data0, data1]"
   ]
  },
  {
   "cell_type": "code",
   "execution_count": 30,
   "metadata": {},
   "outputs": [
    {
     "name": "stdout",
     "output_type": "stream",
     "text": [
      "[1, 0]\n"
     ]
    }
   ],
   "source": [
    "loader = DataLoader(lst, batch_size=2, follow_batch=[ 'src', 'tar'])\n",
    "batch = next(iter(loader))\n",
    "print(batch.src)"
   ]
  }
 ],
 "metadata": {
  "kernelspec": {
   "display_name": "graphgps",
   "language": "python",
   "name": "python3"
  },
  "language_info": {
   "codemirror_mode": {
    "name": "ipython",
    "version": 3
   },
   "file_extension": ".py",
   "mimetype": "text/x-python",
   "name": "python",
   "nbconvert_exporter": "python",
   "pygments_lexer": "ipython3",
   "version": "3.9.18"
  },
  "orig_nbformat": 4,
  "vscode": {
   "interpreter": {
    "hash": "90191a2345243c7acca9ee3cdc4a364dd32575d2232fa45c3d7e6647df735c46"
   }
  }
 },
 "nbformat": 4,
 "nbformat_minor": 2
}
