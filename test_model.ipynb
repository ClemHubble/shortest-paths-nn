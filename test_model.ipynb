{
 "cells": [
  {
   "cell_type": "code",
   "execution_count": 1,
   "metadata": {},
   "outputs": [
    {
     "name": "stderr",
     "output_type": "stream",
     "text": [
      "/home/sam/anaconda3/envs/graphgps/lib/python3.9/site-packages/tqdm/auto.py:21: TqdmWarning: IProgress not found. Please update jupyter and ipywidgets. See https://ipywidgets.readthedocs.io/en/stable/user_install.html\n",
      "  from .autonotebook import tqdm as notebook_tqdm\n"
     ]
    }
   ],
   "source": [
    "import numpy as np\n",
    "import torch, queue\n",
    "from torch_geometric.data import Data\n",
    "from utils import gen_edge_index\n",
    "from baselines import *"
   ]
  },
  {
   "cell_type": "code",
   "execution_count": 2,
   "metadata": {},
   "outputs": [],
   "source": [
    "def compute_test_loss(node_embeddings, srcs, tars, lengths, mlp=None, metric='relative_loss', device='cpu'):\n",
    "    srcs = srcs.to(device)\n",
    "    tars = tars.to(device)\n",
    "    lengths = lengths.to(device)\n",
    "    if mlp == None:\n",
    "        pred = torch.norm(node_embeddings[srcs] - node_embeddings[tars], p=2, dim=1)\n",
    "    else:\n",
    "        pred = mlp(node_embeddings[srcs], node_embeddings[tars])\n",
    "    relative_losses = torch.abs(pred - lengths)/lengths\n",
    "    relative_losses = relative_losses.detach().cpu().numpy()\n",
    "    return np.mean(relative_losses), np.std(relative_losses), relative_losses\n",
    "\n",
    "\n",
    "def npz_to_dataset(data):\n",
    "    \n",
    "    edge_index = torch.tensor(data['edge_index'], dtype=torch.long)\n",
    "\n",
    "    srcs = torch.tensor(data['srcs'])\n",
    "    tars = torch.tensor(data['tars'])\n",
    "    lengths = torch.tensor(data['lengths'])\n",
    "    node_features = torch.tensor(data['node_features'], dtype=torch.double)\n",
    "\n",
    "    return srcs, tars, lengths, node_features, edge_index"
   ]
  },
  {
   "cell_type": "code",
   "execution_count": 38,
   "metadata": {},
   "outputs": [
    {
     "name": "stdout",
     "output_type": "stream",
     "text": [
      "{'hidden': 64, 'input': 3, 'layer_type': 'Transformer', 'layers': 2, 'output': 64}\n"
     ]
    }
   ],
   "source": [
    "import yaml\n",
    "# load training yaml\n",
    "with open('configs/hyperparameter-config-Transformer.yaml', 'r') as file:\n",
    "    model_configs = yaml.safe_load(file)\n",
    "config = model_configs['Transfomer-9']\n",
    "gnn_config = config['gnn']\n",
    "print(gnn_config)"
   ]
  },
  {
   "cell_type": "code",
   "execution_count": 4,
   "metadata": {},
   "outputs": [],
   "source": [
    "# Load test data\n",
    "test_path = '/data/sam/terrain/data/norway/norway-1600-test.npz'\n",
    "data = np.load(test_path, allow_pickle=True)\n",
    "\n",
    "srcs, tars, lengths, node_features, edge_index = npz_to_dataset(data)\n",
    "\n",
    "# Load model\n",
    "path = '/data/sam/terrain/models/norway-1600/baseline1/siamese/Transfomer-9/no-vn/final_model.pt'\n",
    "model_info = torch.load(path, map_location='cpu')\n",
    "gnn_model = GraphTransformer(**gnn_config)\n",
    "#gnn_model = GNNModel(input=3, output=16, hidden=32, layers=2)\n",
    "gnn_model.load_state_dict(model_info)\n",
    "gnn_model = gnn_model.to(torch.double)\n",
    "\n",
    "node_embeddings = gnn_model(node_features, edge_index)"
   ]
  },
  {
   "cell_type": "code",
   "execution_count": 5,
   "metadata": {},
   "outputs": [
    {
     "name": "stdout",
     "output_type": "stream",
     "text": [
      "0.09804136868659181 0.09586651711630527\n"
     ]
    }
   ],
   "source": [
    "mean, std, errs = compute_test_loss(node_embeddings, srcs, tars, lengths)\n",
    "print(mean, std)"
   ]
  },
  {
   "cell_type": "code",
   "execution_count": 17,
   "metadata": {},
   "outputs": [],
   "source": [
    "# Convert to networkx\n",
    "from torch_geometric.utils import to_networkx\n",
    "graph_pyg = Data(x=node_features, edge_index = edge_index)\n",
    "G = to_networkx(graph_pyg)\n",
    "for i in range(len(edge_index[0])):\n",
    "    v1 = edge_index[0][i].item()\n",
    "    v2 = edge_index[1][i].item()\n",
    "    G[v1][v2]['weight'] = torch.norm(node_features[v1] - node_features[v2]).item()\n"
   ]
  },
  {
   "cell_type": "code",
   "execution_count": 20,
   "metadata": {},
   "outputs": [
    {
     "data": {
      "text/plain": [
       "0.5011548639144174"
      ]
     },
     "execution_count": 20,
     "metadata": {},
     "output_type": "execute_result"
    }
   ],
   "source": [
    "import networkx as nx\n",
    "\n",
    "nx.shortest_path_length(G, 0, 1, weight='weight')"
   ]
  },
  {
   "cell_type": "code",
   "execution_count": 41,
   "metadata": {},
   "outputs": [
    {
     "name": "stderr",
     "output_type": "stream",
     "text": [
      "100%|██████████| 19/19 [00:21<00:00,  1.12s/it]\n"
     ]
    }
   ],
   "source": [
    "from tqdm import trange\n",
    "errors = []\n",
    "rand_src = np.random.choice(np.arange(len(node_features)), size=10)\n",
    "\n",
    "for k in trange(1, 20):\n",
    "    k_err = []\n",
    "    for i in range(10):\n",
    "        src = rand_src[i]\n",
    "        k_hops = nx.single_source_shortest_path(G, src, cutoff=k)\n",
    "        single_k_err = []\n",
    "        for tar in k_hops:\n",
    "            if tar == src:\n",
    "                continue\n",
    "            real_shortest_path = nx.shortest_path_length(G, src, tar, weight='weight')\n",
    "            pred_shortest_path = torch.norm(node_embeddings[src] - node_embeddings[tar]).item()\n",
    "            err = abs(pred_shortest_path - real_shortest_path)/real_shortest_path\n",
    "            single_k_err.append(err)\n",
    "        k_err.append(np.mean(single_k_err))\n",
    "    errors.append(np.mean(k_err))\n",
    "\n",
    "    "
   ]
  },
  {
   "cell_type": "code",
   "execution_count": 43,
   "metadata": {},
   "outputs": [
    {
     "data": {
      "text/plain": [
       "Text(0.5, 0, 'Number of hops away')"
      ]
     },
     "execution_count": 43,
     "metadata": {},
     "output_type": "execute_result"
    },
    {
     "data": {
      "image/png": "[encoded data removed]",
      "text/plain": [
       "<Figure size 640x480 with 1 Axes>"
      ]
     },
     "metadata": {},
     "output_type": "display_data"
    }
   ],
   "source": [
    "#path_length = data['paths']\n",
    "import matplotlib.pyplot as plt\n",
    "plt.bar(np.arange(1, 20), errors)\n",
    "plt.xticks(np.arange(1, 20))\n",
    "plt.ylabel(\"Average relative error\")\n",
    "plt.xlabel(\"Number of hops away\")\n"
   ]
  },
  {
   "cell_type": "code",
   "execution_count": 35,
   "metadata": {},
   "outputs": [
    {
     "data": {
      "text/plain": [
       "<matplotlib.collections.PathCollection at 0x7f10610ebbb0>"
      ]
     },
     "execution_count": 35,
     "metadata": {},
     "output_type": "execute_result"
    },
    {
     "data": {
      "image/png": "[encoded data removed]",
      "text/plain": [
       "<Figure size 432x288 with 1 Axes>"
      ]
     },
     "metadata": {
      "needs_background": "light"
     },
     "output_type": "display_data"
    }
   ],
   "source": [
    "plt.scatter(path_length, errs)"
   ]
  }
 ],
 "metadata": {
  "kernelspec": {
   "display_name": "graphgps",
   "language": "python",
   "name": "python3"
  },
  "language_info": {
   "codemirror_mode": {
    "name": "ipython",
    "version": 3
   },
   "file_extension": ".py",
   "mimetype": "text/x-python",
   "name": "python",
   "nbconvert_exporter": "python",
   "pygments_lexer": "ipython3",
   "version": "3.9.18"
  },
  "orig_nbformat": 4,
  "vscode": {
   "interpreter": {
    "hash": "90191a2345243c7acca9ee3cdc4a364dd32575d2232fa45c3d7e6647df735c46"
   }
  }
 },
 "nbformat": 4,
 "nbformat_minor": 2
}
