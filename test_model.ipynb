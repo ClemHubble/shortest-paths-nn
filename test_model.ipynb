{
 "cells": [
  {
   "cell_type": "code",
   "execution_count": 1,
   "metadata": {},
   "outputs": [],
   "source": [
    "import numpy as np\n",
    "import torch, queue\n",
    "from torch_geometric.data import Data\n",
    "from torch_geometric.loader import DataLoader\n",
    "from torch.utils.data import Dataset\n",
    "from src.transforms import *\n",
    "from torch_geometric.data import Data, HeteroData"
   ]
  },
  {
   "cell_type": "code",
   "execution_count": 31,
   "metadata": {},
   "outputs": [],
   "source": [
    "class GNN_VN_Model(torch.nn.Module):\n",
    "    \"\"\"\n",
    "    GNN model that customizes the torch_geometric.graphgym.models.gnn.GNN\n",
    "    to support specific handling of new conv layers.\n",
    "    \"\"\"\n",
    "    def __init__(self, input=3, output=20, hidden=20, layers=2, \n",
    "                 layer_type='GATConv', activation='LeakyReLU', batches=False, **kwargs):\n",
    "        super(GNN_VN_Model, self).__init__()\n",
    "\n",
    "        torch.manual_seed(1234567)\n",
    "        # Initialize the first layer\n",
    "        graph_layer = globals()[layer_type]\n",
    "        self.initial = graph_layer(input, hidden)\n",
    "        \n",
    "        # Initialize the subsequent layers\n",
    "        self.module_list = nn.ModuleList([graph_layer(hidden, hidden) for _ in range(layers - 1)])\n",
    "        \n",
    "        # Output layer\n",
    "        self.output = graph_layer(hidden, output)\n",
    "\n",
    "        # activation function\n",
    "        self.activation = globals()[activation]()\n",
    "\n",
    "        # added by Chen; VN part.\n",
    "        self.virtualnode_embedding = torch.nn.Embedding(1, hidden)\n",
    "        self.mlp_virtualnode_list = torch.nn.ModuleList()\n",
    "        torch.nn.init.constant_(self.virtualnode_embedding.weight.data, 0)\n",
    "        for layer in range(layers  - 1):\n",
    "            if batches:\n",
    "                self.mlp_virtualnode_list.append(\n",
    "                    torch.nn.Sequential(torch.nn.Linear(hidden, hidden), torch.nn.BatchNorm1d(hidden), torch.nn.ReLU(), \\\n",
    "                                        torch.nn.Linear(hidden, hidden), torch.nn.BatchNorm1d(hidden), torch.nn.ReLU()))\n",
    "            else:\n",
    "                self.mlp_virtualnode_list.append(\n",
    "                    torch.nn.Sequential(torch.nn.Linear(hidden, hidden), torch.nn.ReLU(), \\\n",
    "                                        torch.nn.Linear(hidden, hidden), torch.nn.ReLU()))\n",
    "                \n",
    "    def forward(self, x, edge_index, h_blocks, h_levels, h_num):\n",
    "        out = self.initial(x, edge_index)\n",
    "        vn_direct = self.virtualnode_embedding(torch.zeros(h_num).to(edge_index.dtype).to(edge_index.device))\n",
    "        vn_root = self.virtualnode_embedding(torch.zeros(1).to(edge_index.dtype).to(edge_index.device))\n",
    "\n",
    "        for layer in self.module_list:\n",
    "            # Get information from virtual nodes\n",
    "            out = out + vn_direct[h_blocks]\n",
    "            out = layer(out, edge_index)\n",
    "\n",
    "            # Get information from real nodes + root virtual node\n",
    "            vn_direct = global_add_pool(out, h_blocks) + vn_direct\n",
    "            vn_direct = vn_direct + vn_root\n",
    "\n",
    "            # Root VN gets information from vn_direct\n",
    "            vn_root = global_add_pool(vn_direct, None, size=1) + vn_root\n",
    "            \n",
    "            for mlp_layer in self.mlp_virtualnode_list:\n",
    "                vn_direct = mlp_layer(vn_direct)\n",
    "                vn_root = mlp_layer(vn_root)\n",
    "            \n",
    "            \n",
    "        return out\n",
    "\n",
    "class TerrainHeteroData(HeteroData):\n",
    "    def __inc__(self, key, value, *args, **kwargs):\n",
    "        if key == 'src':\n",
    "            return self['real'].x.size(0)\n",
    "        if key == 'tar':\n",
    "            return self['real'].x.size(0)\n",
    "        return super().__inc__(key, value, *args, **kwargs)\n",
    "\n",
    "class TerrainPatchesData(Data):\n",
    "    def __inc__(self, key, value, *args, **kwargs):\n",
    "        if key == 'src':\n",
    "            return self.x.size(0)\n",
    "        if key == 'tar':\n",
    "            return self.x.size(0)\n",
    "        return super().__inc__(key, value, *args, **kwargs)"
   ]
  },
  {
   "cell_type": "code",
   "execution_count": 32,
   "metadata": {},
   "outputs": [
    {
     "data": {
      "text/plain": [
       "tensor([[-0.5097, -1.4739,  0.3424,  1.5051,  0.4448,  1.0967, -0.4457,  1.0000,\n",
       "          0.2805, -1.1216, -0.5548, -0.0211, -0.7743, -0.3636, -0.3101,  0.2360,\n",
       "         -0.9018, -0.2084,  0.0796, -1.0028],\n",
       "        [-0.3301, -1.1256,  0.3964,  1.0767,  0.3273,  0.8585, -0.2303,  0.6894,\n",
       "          0.2389, -0.5163, -0.7548, -0.1384, -0.6945, -0.3687, -0.1754,  0.2559,\n",
       "         -0.8168, -0.1085,  0.2097, -0.8211],\n",
       "        [-0.6196, -1.7179,  0.2739,  1.7983,  0.5208,  1.2735, -0.5614,  1.1988,\n",
       "          0.3197, -1.5458, -0.4141,  0.0691, -0.8276, -0.3641, -0.4109,  0.2128,\n",
       "         -0.9859, -0.2710, -0.0163, -1.1102]], grad_fn=<AddBackward0>)"
      ]
     },
     "execution_count": 32,
     "metadata": {},
     "output_type": "execute_result"
    }
   ],
   "source": [
    "x1 = torch.randn(3, 16)  \n",
    "ei_1 = torch.tensor([\n",
    "    [0, 1, 0, 2],\n",
    "    [1, 0, 2, 0],\n",
    "])\n",
    "\n",
    "h_blocks = torch.tensor([0, 0, 1])\n",
    "h_num = 2\n",
    "\n",
    "gnn = GNN_VN_Model(input=16)\n",
    "\n",
    "gnn(x2, ei_1, h_blocks, 1, h_num)\n"
   ]
  },
  {
   "cell_type": "code",
   "execution_count": 15,
   "metadata": {},
   "outputs": [],
   "source": [
    "x1 = torch.randn(3, 16)  \n",
    "ei_1 = torch.tensor([\n",
    "    [0, 1, 0, 2],\n",
    "    [1, 0, 2, 0],\n",
    "])\n",
    "\n",
    "x2 = torch.randn(3, 16)  \n",
    "ei_2 = torch.tensor([\n",
    "    [0, 1, 0, 2],\n",
    "    [1, 0, 2, 0],\n",
    "])\n",
    "\n",
    "z"
   ]
  },
  {
   "cell_type": "code",
   "execution_count": 16,
   "metadata": {},
   "outputs": [],
   "source": [
    "data0 = TerrainPatchesData(x=x1, edge_index = ei_1, src =1, tar=2)\n",
    "data1 = TerrainPatchesData(x=x2, edge_index = ei_2, src = 0, tar=1)\n",
    "lst = [data0, data1]\n"
   ]
  },
  {
   "cell_type": "code",
   "execution_count": 22,
   "metadata": {},
   "outputs": [
    {
     "name": "stdout",
     "output_type": "stream",
     "text": [
      "tensor([1, 3])\n",
      "tensor([0, 0, 0, 1, 1, 1])\n",
      "vn_emb, batch.batch torch.Size([6, 20])\n",
      "torch.Size([6, 20])\n"
     ]
    }
   ],
   "source": [
    "gnn = GNN_VN_Model(input=16)\n",
    "\n",
    "loader = DataLoader(lst, batch_size=2, follow_batch=[ 'src', 'tar'])\n",
    "batch = next(iter(loader))\n",
    "print(batch.src)\n",
    "\n",
    "out = gnn(batch.x, batch.edge_index, batch=batch)\n",
    "print(out.size())"
   ]
  },
  {
   "cell_type": "code",
   "execution_count": 43,
   "metadata": {},
   "outputs": [],
   "source": [
    "class TerrainHeteroData(HeteroData):\n",
    "    def __inc__(self, key, value, *args, **kwargs):\n",
    "        if key == 'src':\n",
    "            return self['real'].x.size(0)\n",
    "        if key == 'tar':\n",
    "            return self['real'].x.size(0)\n",
    "        return super().__inc__(key, value, *args, **kwargs)\n",
    "\n",
    "class TerrainPatchesData(Data):\n",
    "    def __inc__(self, key, value, *args, **kwargs):\n",
    "        if key == 'src':\n",
    "            return self.x.size(0)\n",
    "        if key == 'tar':\n",
    "            return self.x.size(0)\n",
    "        return super().__inc__(key, value, *args, **kwargs)\n",
    "    "
   ]
  },
  {
   "cell_type": "code",
   "execution_count": 44,
   "metadata": {},
   "outputs": [],
   "source": [
    "def add_virtual_node(data):\n",
    "    hetero_data = TerrainHeteroData()\n",
    "    sz_features = data.x.size()[1]\n",
    "    hetero_data.src = data.src\n",
    "    hetero_data.tar = data.tar\n",
    "    hetero_data['real'].x = data.x.double()\n",
    "    hetero_data['real', 'e1', 'real'].edge_index = data.edge_index\n",
    "\n",
    "    vn = torch.zeros(size = (1, sz_features), dtype=torch.double )\n",
    "    hetero_data['vn'].x = vn\n",
    "    vn_edge_index = [[], []]\n",
    "    for i in range(data.x.size()[0]):\n",
    "        vn_edge_index[0].append(0)\n",
    "        vn_edge_index[1].append(i)\n",
    "    hetero_data['vn', 'e2', 'real'].edge_index = torch.tensor(vn_edge_index, dtype=torch.long)\n",
    "\n",
    "    return hetero_data"
   ]
  },
  {
   "cell_type": "code",
   "execution_count": 45,
   "metadata": {},
   "outputs": [],
   "source": [
    "x1 = torch.randn(3, 16)  \n",
    "ei_1 = torch.tensor([\n",
    "    [0, 1, 0, 2],\n",
    "    [1, 0, 2, 0],\n",
    "])\n",
    "\n",
    "x2 = torch.randn(3, 16)  \n",
    "ei_2 = torch.tensor([\n",
    "    [0, 1, 0, 2],\n",
    "    [1, 0, 2, 0],\n",
    "])"
   ]
  },
  {
   "cell_type": "code",
   "execution_count": 46,
   "metadata": {},
   "outputs": [
    {
     "name": "stdout",
     "output_type": "stream",
     "text": [
      "TerrainHeteroData(\n",
      "  src=1,\n",
      "  \u001b[1mreal\u001b[0m={ x=[3, 16] },\n",
      "  \u001b[1mvn\u001b[0m={ x=[1, 16] },\n",
      "  \u001b[1m(real, e1, real)\u001b[0m={ edge_index=[2, 4] },\n",
      "  \u001b[1m(vn, e2, real)\u001b[0m={ edge_index=[2, 3] }\n",
      ")\n"
     ]
    }
   ],
   "source": [
    "data0 = TerrainPatchesData(x=x1, edge_index = ei_1, src =1, tar=2)\n",
    "data1 = TerrainPatchesData(x=x2, edge_index = ei_2, src = 0, tar=1)\n",
    "vn1 = add_virtual_node(data0)\n",
    "vn2 = add_virtual_node(data1)\n",
    "lst = [data0, data1]\n",
    "lst_vn = [vn1, vn2]\n",
    "print(vn1)"
   ]
  },
  {
   "cell_type": "code",
   "execution_count": 47,
   "metadata": {},
   "outputs": [
    {
     "name": "stdout",
     "output_type": "stream",
     "text": [
      "{'edge_index': tensor([[0, 0, 0, 1, 1, 1],\n",
      "        [0, 1, 2, 3, 4, 5]])}\n",
      "tensor([1, 3])\n"
     ]
    }
   ],
   "source": [
    "loader = DataLoader(lst_vn, batch_size=2, follow_batch = ['src'])\n",
    "batch = next(iter(loader))\n",
    "print(batch['vn', 'e2', 'real'])\n",
    "print(batch['src'])"
   ]
  },
  {
   "cell_type": "code",
   "execution_count": 29,
   "metadata": {},
   "outputs": [],
   "source": [
    "data0 = TerrainPatchesData(x = data[0].x, edge_index = data[0].edge_index, src=np.int64(1), tar=np.int64(2))\n",
    "data1 = TerrainPatchesData(x = data[1].x, edge_index = data[1].edge_index, src=np.int64(0), tar=np.int64(0))\n",
    "lst = [data0, data1]"
   ]
  },
  {
   "cell_type": "code",
   "execution_count": 30,
   "metadata": {},
   "outputs": [
    {
     "name": "stdout",
     "output_type": "stream",
     "text": [
      "[1, 0]\n"
     ]
    }
   ],
   "source": [
    "loader = DataLoader(lst, batch_size=2, follow_batch=[ 'src', 'tar'])\n",
    "batch = next(iter(loader))\n",
    "print(batch.src)"
   ]
  }
 ],
 "metadata": {
  "kernelspec": {
   "display_name": "py10-coreset",
   "language": "python",
   "name": "python3"
  },
  "language_info": {
   "codemirror_mode": {
    "name": "ipython",
    "version": 3
   },
   "file_extension": ".py",
   "mimetype": "text/x-python",
   "name": "python",
   "nbconvert_exporter": "python",
   "pygments_lexer": "ipython3",
   "version": "3.10.13"
  },
  "orig_nbformat": 4,
  "vscode": {
   "interpreter": {
    "hash": "e071539cccef4c0bb4ed46693789f6471484fd3e421d82529124a3bb2524ec50"
   }
  }
 },
 "nbformat": 4,
 "nbformat_minor": 2
}
